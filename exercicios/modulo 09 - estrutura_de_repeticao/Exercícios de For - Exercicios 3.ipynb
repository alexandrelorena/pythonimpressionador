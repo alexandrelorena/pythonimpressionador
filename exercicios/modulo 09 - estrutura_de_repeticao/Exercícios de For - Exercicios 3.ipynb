{
 "cells": [
  {
   "cell_type": "markdown",
   "metadata": {},
   "source": [
    "# Exercícios\n",
    "\n",
    "## 1. Calculando % de uma lista\n",
    "\n",
    "Faremos algo parecido com \"filtrar\" uma lista. Mais pra frente no curso aprenderemos outras formas de fazer isso, mas com o nosso conhecimentoa atual já conseguimos resolver o desafio.\n",
    "\n",
    "Digamos que a gente tenha uma lista de vendedores e ao invés de saber todos os vendedores que bateram a meta, eu quero conseguir calcular o % de vendedores que bateram a meta. Ou seja, se temos 10 vendedores e 3 bateram a meta, temos 30% dos vendedores que bateram a meta."
   ]
  },
  {
   "cell_type": "code",
   "execution_count": 34,
   "metadata": {},
   "outputs": [
    {
     "name": "stdout",
     "output_type": "stream",
     "text": [
      "O percentual de funcionários que bateram a meta foi de 50%, ou seja, 3 funcionários.\n",
      "O percentual de funcionários que bateram a meta foi de 50%, ou seja, 3 funcionários.\n",
      "O percentual de funcionários que bateram a meta foi de 50%\n"
     ]
    }
   ],
   "source": [
    "meta = 10000\n",
    "vendas = [\n",
    "    ['João', 15000],\n",
    "    ['Julia', 27000],\n",
    "    ['Marcus', 9900],\n",
    "    ['Maria', 3750],\n",
    "    ['Ana', 10300],\n",
    "    ['Alon', 7870],\n",
    "]\n",
    "\n",
    "# 1. Criando uma lista auxiliar apenas com os vendedores que bateram a meta\n",
    "meta_batida = 0\n",
    "for venda in vendas:\n",
    "    if venda[1] >= meta:\n",
    "        meta_batida += 1\n",
    "qtde_funcionarios = len(vendas)\n",
    "\n",
    "# método 'str.format()'\n",
    "print('O percentual de funcionários que bateram a meta foi de {:.0%}, ou seja, {} funcionários.'.format(meta_batida / qtde_funcionarios, meta_batida)) \n",
    "\n",
    "# f-strings (formatted string literals) >> a partir do  Python 3.6\n",
    "print(f'O percentual de funcionários que bateram a meta foi de {meta_batida / qtde_funcionarios:.0%}, ou seja, {meta_batida} funcionários.')\n",
    "\n",
    "# 2. Fazendo o cálculo diretamente na lista que já temos\n",
    "qtde_vendedores_acima = 0\n",
    "\n",
    "for venda in vendas:\n",
    "    if venda[1] >= meta:\n",
    "        qtde_vendedores_acima += 1\n",
    "\n",
    "print(f'O percentual de funcionários que bateram a meta foi de {qtde_vendedores_acima / len(vendas):.0%}')"
   ]
  },
  {
   "cell_type": "markdown",
   "metadata": {},
   "source": [
    "- Vamos resolver de 2 formas:\n",
    "    1. Criando uma lista auxiliar apenas com os vendedores que bateram a meta\n",
    "    2. Fazendo o cálculo diretamente na lista que já temos"
   ]
  },
  {
   "cell_type": "markdown",
   "metadata": {},
   "source": [
    "## Para treinar uma estrutura parecida, crie um código para responder: quem foi o vendedor que mais vendeu?"
   ]
  },
  {
   "cell_type": "code",
   "execution_count": 40,
   "metadata": {},
   "outputs": [
    {
     "name": "stdout",
     "output_type": "stream",
     "text": [
      "O melhor vendedor foi Julia com 27000 vendas!\n"
     ]
    }
   ],
   "source": [
    "melhor_vendedor = ''\n",
    "maior_vendas = 0\n",
    "\n",
    "for venda in vendas:\n",
    "    if venda[1] > maior_vendas:\n",
    "        maior_vendas = venda[1]\n",
    "        melhor_vendedor = venda[0]\n",
    "\n",
    "print(f'O melhor vendedor foi {melhor_vendedor} com {maior_vendas} vendas!')"
   ]
  }
 ],
 "metadata": {
  "kernelspec": {
   "display_name": "Python 3",
   "language": "python",
   "name": "python3"
  },
  "language_info": {
   "codemirror_mode": {
    "name": "ipython",
    "version": 3
   },
   "file_extension": ".py",
   "mimetype": "text/x-python",
   "name": "python",
   "nbconvert_exporter": "python",
   "pygments_lexer": "ipython3",
   "version": "3.12.1"
  }
 },
 "nbformat": 4,
 "nbformat_minor": 4
}
