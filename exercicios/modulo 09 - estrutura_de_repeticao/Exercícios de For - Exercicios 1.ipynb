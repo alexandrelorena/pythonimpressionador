{
 "cells": [
  {
   "cell_type": "markdown",
   "metadata": {},
   "source": [
    "# Exercícios\n",
    "\n",
    "## 1. Criando um Registro de Hóspedes\n",
    "\n",
    "Digamos que você está criando o sistema para registrar a chegada de hóspedes em um hotel. No hotel, os hóspedes podem ter quartos com 1, 2, 3 e 4 pessoas. Seu sistema deve conseguir:\n",
    "\n",
    "1. Identificar quantas pessoas o hóspede que acabou de chegar vai ter no quarto (perguntando por meio de input)\n",
    "2. De acordo com a quantidade de pessoas do hóspede, ele deve fazer um for para perguntar o cpf e o nome de cada pessoa, a fim de registrá-la no quarto (2 inputs para cada pessoa, 1 para o cpf e outro para o nome)\n",
    "3. O seu programa então deve gerar uma lista com todas as pessoas que ficarão no quarto em que cada item dessa lista é o nome da pessoa e o cpf da pessoa, assim:"
   ]
  },
  {
   "cell_type": "raw",
   "metadata": {},
   "source": [
    "quarto = [\n",
    "    ['João', 'cpf:00000000000'],\n",
    "    ['Julia', 'cpf:11111111111'],\n",
    "    ['Marcus', 'cpf:22222222222'],\n",
    "    ['Maria', 'cpf:33333333333'],\n",
    "]"
   ]
  },
  {
   "cell_type": "markdown",
   "metadata": {},
   "source": [
    "- Para simplificar, não vamos nos preocupar com possibilidades de \"tentar colocar mais de 1 hóspede, digitar o cpf errado, etc. Nosso objetivo é treinar a criação de uma rotina de cadastro"
   ]
  },
  {
   "cell_type": "code",
   "execution_count": 8,
   "metadata": {},
   "outputs": [
    {
     "name": "stdout",
     "output_type": "stream",
     "text": [
      "[['ale', 'cpf: 1515151']]\n"
     ]
    }
   ],
   "source": [
    "numero_pessoas = int(input(\"Informe o número de pessoas para o quarto (1 a 4 pessoas): \"))\n",
    "\n",
    "quarto = []\n",
    "\n",
    "for i in range(numero_pessoas):\n",
    "    nome = input(\"Nome do hóspede: \")\n",
    "    cpf = input(\"Informe o cpf de {}:\".format(nome))\n",
    "    hospede = [nome, 'cpf: {}'.format(cpf)]\n",
    "    quarto.append(hospede)\n",
    "\n",
    "print(quarto)"
   ]
  },
  {
   "cell_type": "markdown",
   "metadata": {},
   "source": [
    "## 2. Análise de Vendas\n",
    "\n",
    "Nesse exercício vamos fazer uma \"análise simples\" de atingimento de Meta.\n",
    "\n",
    "Temos uma lista com os vendedores e os valores de vendas e queremos identificar (printar) quais os vendedores que bateram a meta e qual foi o valor que eles venderam."
   ]
  },
  {
   "cell_type": "code",
   "execution_count": 14,
   "metadata": {},
   "outputs": [
    {
     "name": "stdout",
     "output_type": "stream",
     "text": [
      "Vendedor João bateu a meta. Fez 15000 vendas\n",
      "Vendedor Julia bateu a meta. Fez 27000 vendas\n",
      "Vendedor Ana bateu a meta. Fez 10300 vendas\n"
     ]
    }
   ],
   "source": [
    "meta = 10000\n",
    "vendas = [\n",
    "    ['João', 15000],\n",
    "    ['Julia', 27000],\n",
    "    ['Marcus', 9900],\n",
    "    ['Maria', 3750],\n",
    "    ['Ana', 10300],\n",
    "    ['Alon', 7870],\n",
    "]\n",
    "\n",
    "# for i, venda in vendas:\n",
    "#     if venda >= meta:\n",
    "#         meta_batida = venda\n",
    "#         print(i, 'vendeu {} e bateu a meta!'.format(meta_batida))\n",
    "\n",
    "#seu código aqui\n",
    "for item in vendas:\n",
    "    if item[1] >= meta:\n",
    "        print('Vendedor {} bateu a meta. Fez {} vendas'.format(item[0], item[1]))"
   ]
  },
  {
   "cell_type": "markdown",
   "metadata": {},
   "source": [
    "## 3. Comparação com Ano Anterior\n",
    "\n",
    "Digamos que você está analisando as vendas de produtos de um ecommerce e quer identificar quais produtos tiveram no ano de 2020 mais vendas do que no ano de 2019, para reportar isso para a diretoria.\n",
    "\n",
    "Sua resposta pode ser um print de cada produto, qual foi a venda de 2019, a venda de 2020 e o % de crescimento de 2020 para 2019.\n",
    "\n",
    "Lembrando, para calcular o % de crescimento de um produto de um ano para o outro, podemos fazer: (vendas_produto2020/vendas_produto2019 - 1)\n",
    "\n",
    "Dica: lembre do enumerate, ele pode facilitar seu \"for\""
   ]
  },
  {
   "cell_type": "code",
   "execution_count": 36,
   "metadata": {},
   "outputs": [
    {
     "name": "stdout",
     "output_type": "stream",
     "text": [
      "Em 2019, iphone teve 558147 unidades vendidas, em 2020 teve 951642 unidades vendidas. Houve um crescimento de 71%.\n",
      "Em 2019, tv teve 405252 unidades vendidas, em 2020 teve 787604 unidades vendidas. Houve um crescimento de 94%.\n",
      "Em 2019, máquina de café teve 718654 unidades vendidas, em 2020 teve 867660 unidades vendidas. Houve um crescimento de 21%.\n",
      "Em 2019, notebook dell teve 422760 unidades vendidas, em 2020 teve 694913 unidades vendidas. Houve um crescimento de 64%.\n",
      "Em 2019, notebook hp teve 154753 unidades vendidas, em 2020 teve 539704 unidades vendidas. Houve um crescimento de 249%.\n",
      "Em 2019, microsoft surface teve 438508 unidades vendidas, em 2020 teve 667179 unidades vendidas. Houve um crescimento de 52%.\n",
      "Em 2019, webcam teve 237467 unidades vendidas, em 2020 teve 295633 unidades vendidas. Houve um crescimento de 24%.\n",
      "Em 2019, caixa de som teve 489705 unidades vendidas, em 2020 teve 725316 unidades vendidas. Houve um crescimento de 48%.\n",
      "Em 2019, microfone teve 328311 unidades vendidas, em 2020 teve 644622 unidades vendidas. Houve um crescimento de 96%.\n",
      "Em 2019, câmera canon teve 591120 unidades vendidas, em 2020 teve 994303 unidades vendidas. Houve um crescimento de 68%.\n"
     ]
    }
   ],
   "source": [
    "produtos = ['iphone', 'galaxy', 'ipad', 'tv', 'máquina de café', 'kindle', 'geladeira', 'adega', 'notebook dell', 'notebook hp', 'notebook asus', 'microsoft surface', 'webcam', 'caixa de som', 'microfone', 'câmera canon']\n",
    "vendas2019 = [558147,712350,573823,405252,718654,531580,973139,892292,422760,154753,887061,438508,237467,489705,328311,591120]\n",
    "vendas2020 = [951642,244295,26964,787604,867660,78830,710331,646016,694913,539704,324831,667179,295633,725316,644622,994303]\n",
    "#seu código aqui\n",
    "\n",
    "for i, produto in enumerate(produtos):\n",
    "    if vendas2019[i] < vendas2020[i]:\n",
    "        crescimento = vendas2020[i] / vendas2019[i] - 1\n",
    "        print('Em 2019, {} teve {} unidades vendidas, em 2020 teve {} unidades vendidas. Houve um crescimento de {:.0%}.'.format(produto, vendas2019[i], vendas2020[i], vendas2020[i]/vendas2019[i]-1))"
   ]
  }
 ],
 "metadata": {
  "kernelspec": {
   "display_name": "Python 3",
   "language": "python",
   "name": "python3"
  },
  "language_info": {
   "codemirror_mode": {
    "name": "ipython",
    "version": 3
   },
   "file_extension": ".py",
   "mimetype": "text/x-python",
   "name": "python",
   "nbconvert_exporter": "python",
   "pygments_lexer": "ipython3",
   "version": "3.12.1"
  }
 },
 "nbformat": 4,
 "nbformat_minor": 4
}
