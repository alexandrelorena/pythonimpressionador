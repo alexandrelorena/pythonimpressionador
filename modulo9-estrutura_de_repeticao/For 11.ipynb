{
 "cells": [
  {
   "cell_type": "markdown",
   "metadata": {},
   "source": [
    "# Formas de interromper um for\n",
    "\n",
    "### 2 Opções:\n",
    "\n",
    "- break -> interrompe e finaliza o for\n",
    "- continue -> interrompe e vai para o próximo item do for"
   ]
  },
  {
   "cell_type": "code",
   "execution_count": 18,
   "metadata": {},
   "outputs": [],
   "source": [
    "vendas = [100, 150, 1500, 2000, 120]"
   ]
  },
  {
   "cell_type": "markdown",
   "metadata": {},
   "source": [
    "- Caso 1: Se todas as vendas forem acima da meta, a loja ganha bônus"
   ]
  },
  {
   "cell_type": "code",
   "execution_count": 19,
   "metadata": {},
   "outputs": [
    {
     "name": "stdout",
     "output_type": "stream",
     "text": [
      "A loja não ganha bônus!\n"
     ]
    }
   ],
   "source": [
    "meta = 110\n",
    "\n",
    "for venda in vendas:\n",
    "    if venda < meta:\n",
    "        print(f'A loja não ganha bônus!')\n",
    "        break\n",
    "    print(venda)"
   ]
  },
  {
   "cell_type": "markdown",
   "metadata": {},
   "source": [
    "- Caso 2: Exiba quem bateu a meta"
   ]
  },
  {
   "cell_type": "code",
   "execution_count": 23,
   "metadata": {},
   "outputs": [
    {
     "name": "stdout",
     "output_type": "stream",
     "text": [
      "Vendedor(a) Julia 150\n",
      "Vendedor(a) Ana 1500\n",
      "Vendedor(a) José 2000\n"
     ]
    }
   ],
   "source": [
    "vendedores = ['João', 'Julia', 'Ana', 'José', 'Maria']\n",
    "vendas = [100, 150, 1500, 2000, 120]\n",
    "meta = 130\n",
    "\n",
    "for i, vendedor in enumerate(vendedores):\n",
    "    if vendas[i] >= meta:\n",
    "        print(f'Vendedor(a) {vendedor} {vendas[i]}')\n",
    "\n",
    "          "
   ]
  }
 ],
 "metadata": {
  "kernelspec": {
   "display_name": "Python 3",
   "language": "python",
   "name": "python3"
  },
  "language_info": {
   "codemirror_mode": {
    "name": "ipython",
    "version": 3
   },
   "file_extension": ".py",
   "mimetype": "text/x-python",
   "name": "python",
   "nbconvert_exporter": "python",
   "pygments_lexer": "ipython3",
   "version": "3.12.1"
  }
 },
 "nbformat": 4,
 "nbformat_minor": 4
}
