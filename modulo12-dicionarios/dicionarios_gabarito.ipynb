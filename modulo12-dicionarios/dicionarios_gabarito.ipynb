{
 "cells": [
  {
   "cell_type": "markdown",
   "metadata": {},
   "source": [
    "### Exercício 1\n",
    "Crie um sistema de consulta de preços\n",
    "Seu sistema deve:\n",
    "- Pedir para o usuário o nome de um produto\n",
    "- Caso o produto exista na lista de produtos, o programa deve retornar o preço do produto como resposta\n",
    "       - Ex: O produto celular custa R$1500\n",
    "- Caso o produto não exista na lista de produtos, o programa deve printar uma mensagem para o usuário tentar novamente\n"
   ]
  },
  {
   "cell_type": "code",
   "execution_count": null,
   "metadata": {},
   "outputs": [],
   "source": [
    "precos = {\"celular\": 1500, \"camera\": 1000, \"fone de ouvido\": 800, \"monitor\": 2000}\n",
    "\n",
    "produto_procurado = input(\"Digite o produto:\")\n",
    "produto_procurado = produto_procurado.lower()\n",
    "if produto_procurado in precos:\n",
    "    preco = precos[produto_procurado]\n",
    "    print(f\"Produto: {produto_procurado}, Preço: R${preco}\")\n",
    "else:\n",
    "    print(\"Produto não encontrado, tente novamente\")"
   ]
  },
  {
   "cell_type": "markdown",
   "metadata": {},
   "source": [
    "\n",
    "### Exercício 2\n",
    "Agora edite o programa anterior para fazer com que, caso não exista o produto, o programa pergunte se o usuário quer cadastrar o produto\n",
    "<br>Se ele responder sim, o programa deve pedir o nome do produto e o preco do produto e cadastrar no dicionário de preços\n",
    "<br>Em seguida do cadastro bem sucedido, o programa deve printar o dicionário de precos atualizado\n"
   ]
  },
  {
   "cell_type": "code",
   "execution_count": null,
   "metadata": {},
   "outputs": [],
   "source": [
    "produto_procurado = input(\"Digite o produto:\")\n",
    "produto_procurado = produto_procurado.lower()\n",
    "if produto_procurado in precos:\n",
    "    preco = precos[produto_procurado]\n",
    "    print(f\"Produto: {produto_procurado}, Preço: R${preco}\")\n",
    "else:\n",
    "    opcao = input(f\"Deseja Cadastrar {produto_procurado}? (S/N)\")\n",
    "    if opcao.lower() == \"s\":\n",
    "        preco = float(input(f\"Digite o preço do {produto_procurado} (apenas números)\"))\n",
    "        precos[produto_procurado] = preco\n",
    "        print(precos)\n",
    "    else:\n",
    "        print(\"Produto não encontrado, tente novamente\")"
   ]
  },
  {
   "cell_type": "markdown",
   "metadata": {},
   "source": [
    "### Exercício 3\n",
    "Dada a lista de preços de produtos, uma loja resolveu fazer um reajuste nos preços dos produtos. \n",
    "calcule o novo valor dos produtos com base nas seguintes regras:\n",
    "- Preços até 1.000 vão ter um reajuste de 10% (ou seja, o novo preço será 110% do preço atual)\n",
    "- Preços até maiores que 1.000 até 2.000 vão ter reajuste de 15%\n",
    "- Preços acima de 2.000 vão ter reajuste de 20%"
   ]
  },
  {
   "cell_type": "code",
   "execution_count": null,
   "metadata": {},
   "outputs": [],
   "source": [
    "precos = {\"celular\": 1500, \"camera\": 1000, \"fone de ouvido\": 800, \"monitor\": 3000}\n",
    "for produto in precos:\n",
    "    preco_produto = precos[produto]\n",
    "    if preco_produto <= 1000:\n",
    "        novo_preco = preco_produto * 1.1\n",
    "    elif preco_produto <= 2000:\n",
    "        novo_preco = preco_produto * 1.15\n",
    "    else:\n",
    "        novo_preco = preco_produto * 1.2\n",
    "    print(f\"Produto {produto}, Novo Preço: R${novo_preco}\")\n"
   ]
  },
  {
   "cell_type": "markdown",
   "metadata": {},
   "source": [
    "### Exercício 4\n",
    " - Edite o programa antigo para ter os 2 dicionários, o de preços originais e o de novos preços\n",
    " - Em seguida calcule o valor total de reajuste em R$ que teve entre a lista de produtos original e a lista final\n"
   ]
  },
  {
   "cell_type": "code",
   "execution_count": null,
   "metadata": {},
   "outputs": [],
   "source": [
    "precos = {\"celular\": 1500, \"camera\": 1000, \"fone de ouvido\": 800, \"monitor\": 3000}\n",
    "novos_precos = {}\n",
    "for produto in precos:\n",
    "    preco_produto = precos[produto]\n",
    "    if preco_produto <= 1000:\n",
    "        novo_preco = preco_produto * 1.1\n",
    "    elif preco_produto <= 2000:\n",
    "        novo_preco = preco_produto * 1.15\n",
    "    else:\n",
    "        novo_preco = preco_produto * 1.2\n",
    "    print(f\"Produto {produto}, Novo Preço: R${novo_preco}\")\n",
    "    novos_precos[produto] = novo_preco\n",
    "total_antigo = sum(precos.values())\n",
    "total_novo = sum(novos_precos.values())\n",
    "reajuste = total_novo - total_antigo\n",
    "print(f\"O reajuste total foi de R${reajuste}\")"
   ]
  },
  {
   "cell_type": "markdown",
   "metadata": {},
   "source": [
    "\n",
    "### Exercício 5\n",
    "- Uma empresa está analisando os resultados de vendas do 1º semestre de 2022 e 2023\n",
    "- Qual foi o % de crescimento de cada mês de 2023 em relação a 2022?\n",
    "- Depois de calcular isso, calcule o valor total de crescimento de 2023 em relação a 2022"
   ]
  },
  {
   "cell_type": "code",
   "execution_count": null,
   "metadata": {},
   "outputs": [],
   "source": [
    "vendas_22 = {\"jan\": 15000, \"fev\": 15500, \"mar\": 14000, \"abr\": 16600, \"mai\": 16300, \"jun\": 17000}\n",
    "vendas_23 = {\"jan\": 17000, \"fev\": 15000, \"mar\": 17500, \"abr\": 16900, \"mai\": 16000, \"jun\": 18500}\n",
    "\n",
    "for mes in vendas_23:\n",
    "    valor_22 = vendas_22[mes]\n",
    "    valor_23 = vendas_23[mes]\n",
    "    percentual = valor_23 / valor_22 - 1\n",
    "    print(f\"Em {mes}, a variação percentual foi de: {percentual:.1%}\")\n",
    "\n",
    "total_22 = sum(vendas_22.values())\n",
    "total_23 = sum(vendas_23.values())\n",
    "crescimento = total_23 / total_22 - 1\n",
    "print(f\"Crescimento Real: {crescimento:.1%}\")"
   ]
  },
  {
   "cell_type": "markdown",
   "metadata": {},
   "source": [
    "### Exercício 6 - Desafio\n",
    "- No final da reunião de apresentação dos números, seu chefe perguntou:\n",
    "- E se nos meses de 2023 que a gente vendeu menos do que 2022 a gente tivesse pelo menos empatado com 2022 (ou seja, se nos meses de 2023 em que as vendas foram menores do que o mesmo mês em 2022, o valor de vendas tivesse sido igual a 2022)\n",
    "- Qual teria sido o nosso crescimento de 2023 frente a 2022?"
   ]
  },
  {
   "cell_type": "code",
   "execution_count": null,
   "metadata": {},
   "outputs": [],
   "source": [
    "for mes in vendas_23:\n",
    "    valor_22 = vendas_22[mes]\n",
    "    valor_23 = vendas_23[mes]\n",
    "    percentual = valor_23 / valor_22 - 1\n",
    "    if percentual < 0:\n",
    "        vendas_23[mes] = valor_22\n",
    "    print(f\"Em {mes}, a variação percentual foi de: {percentual:.1%}\")\n",
    "\n",
    "total_22 = sum(vendas_22.values())\n",
    "total_23 = sum(vendas_23.values())\n",
    "crescimento = total_23 / total_22 - 1\n",
    "print(f\"Crescimento simulado: {crescimento:.1%}\")"
   ]
  }
 ],
 "metadata": {
  "language_info": {
   "name": "python"
  }
 },
 "nbformat": 4,
 "nbformat_minor": 2
}
