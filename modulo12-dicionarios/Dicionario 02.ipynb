{
 "cells": [
  {
   "cell_type": "markdown",
   "metadata": {},
   "source": [
    "# Não confie na ordem dos dicionários, use as chaves\n",
    "\n",
    "### Python Versões Antigas x Versões Novas\n",
    "\n",
    "- Dicionários eram \"sem ordem\". Atualmente tem ordem, mas o certo é usar as chaves\n",
    "- 2 formas de pegar um valor:\n",
    "    - dicionario[chave]\n",
    "    - .get(chave)"
   ]
  },
  {
   "cell_type": "code",
   "execution_count": 1,
   "metadata": {},
   "outputs": [],
   "source": [
    "mais_vendidos = {'tecnologia': 'iphone', 'refrigeracao': 'ar consul 12000 btu', 'livros': 'o alquimista', 'eletrodoméstico': 'geladeira', 'lazer': 'prancha surf'}\n",
    "\n",
    "vendas_tecnologia = {'iphone': 15000, 'samsung galaxy': 12000, 'tv samsung': 10000, 'ps5': 14300, 'tablet': 1720, 'ipad': 1000, 'tv philco': 2500, 'notebook hp': 1000, 'notebook dell': 17000, 'notebook asus': 2450}"
   ]
  },
  {
   "cell_type": "markdown",
   "metadata": {},
   "source": [
    "- Qual foi o item mais vendido nas categorias 'livros' e 'lazer'?\n",
    "- Quanto foi vendido de 'notebook asus' e de 'ipad'?"
   ]
  },
  {
   "cell_type": "code",
   "execution_count": 18,
   "metadata": {},
   "outputs": [
    {
     "name": "stdout",
     "output_type": "stream",
     "text": [
      "Com chave:\n",
      "\n",
      " - O livro maia vendido foi 'o alquimista'!\n",
      " - O produto mais vendido em lazer foi 'prancha surf'!\n",
      "\n",
      "Com método get:\n",
      "\n",
      "Vendemos 2450 notebook asus !\n",
      "Vendemos 1000 ipad's!\n"
     ]
    }
   ],
   "source": [
    "# respondendo com a chave, igual a aula anterior\n",
    "print(\"Com chave:\\n\")\n",
    "print(\" - O livro maia vendido foi '{}'!\".format(mais_vendidos['livros']))\n",
    "print(\" - O produto mais vendido em lazer foi '{}'!\".format(mais_vendidos['lazer']))\n",
    "\n",
    "# respondendo com o método get\n",
    "# respondendo com a chave, igual a aula anterior\n",
    "print(\"\\nCom método get:\\n\")\n",
    "\n",
    "print('Vendemos {} notebook asus !'.format(vendas_tecnologia.get('notebook asus')))\n",
    "print(\"Vendemos {} ipad's!\".format(vendas_tecnologia.get('ipad')))\n"
   ]
  },
  {
   "cell_type": "markdown",
   "metadata": {},
   "source": [
    "### Verificar se item está no dicionário:\n",
    "\n",
    "- if\n",
    "- .get(chave) = None\n",
    "\n",
    "Se tentarmos procurar as vendas de \"copo\" na lista de vendas tecnologia, o que acontece?"
   ]
  },
  {
   "cell_type": "code",
   "execution_count": 21,
   "metadata": {},
   "outputs": [
    {
     "name": "stdout",
     "output_type": "stream",
     "text": [
      "Não há dados sobre vendas de copo\n",
      "Não há dados sobre vendas de copo\n"
     ]
    }
   ],
   "source": [
    "\"Forma 1\"\n",
    "\n",
    "if 'copo' in vendas_tecnologia:\n",
    "    print(vendas_tecnologia['copo'])\n",
    "else:\n",
    "    print('Não há dados sobre vendas de copo')\n",
    "\n",
    "\"Forma 2\"\n",
    "\n",
    "if vendas_tecnologia.get('copo') == None:\n",
    "    print('Não há dados sobre vendas de copo')\n",
    "else:\n",
    "    print(vendas_tecnologia['copo'])"
   ]
  }
 ],
 "metadata": {
  "kernelspec": {
   "display_name": "Python 3",
   "language": "python",
   "name": "python3"
  },
  "language_info": {
   "codemirror_mode": {
    "name": "ipython",
    "version": 3
   },
   "file_extension": ".py",
   "mimetype": "text/x-python",
   "name": "python",
   "nbconvert_exporter": "python",
   "pygments_lexer": "ipython3",
   "version": "3.8.5"
  }
 },
 "nbformat": 4,
 "nbformat_minor": 4
}
